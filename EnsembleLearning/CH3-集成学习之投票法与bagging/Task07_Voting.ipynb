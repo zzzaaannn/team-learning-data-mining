{
 "cells": [
  {
   "cell_type": "markdown",
   "metadata": {},
   "source": [
    "# Voting Ensemble\n",
    "\n",
    "ref: https://machinelearningmastery.com/voting-ensembles-with-python/"
   ]
  },
  {
   "cell_type": "markdown",
   "metadata": {},
   "source": [
    "## Intro"
   ]
  },
  {
   "cell_type": "markdown",
   "metadata": {},
   "source": [
    "- 重复多次，并以少数服从多数的方法确定正确的值\n",
    "\n",
    "\n",
    "- combines the predictions from multiple other models\n",
    "\n",
    "\n",
    "- 一般情况下，错误总是发生在局部，因此融合多个数据是降低误差的一个好方法。\n",
    "\n",
    "\n",
    "- 对于回归模型，投票法最终的预测结果是多个其他回归模型预测结果的**平均值**。\n",
    "\n",
    "\n",
    "- 对于分类模型，硬投票法（hard voting）的预测结果是多个模型预测结果中出现**次数最多**的类别(summing the votes)；软投票(soft voting)对各类预测结果的概率进行求和，最终选取**概率之和最大**的类标签(summing the predicted probabilities)。\n",
    "\n",
    "\n",
    "- may be considered as a meta-model, could be used with any collection of existing trained machine learning models and the existing models do not need to be aware that they are being used in the ensemble."
   ]
  },
  {
   "cell_type": "markdown",
   "metadata": {},
   "source": [
    "Adv:\n",
    "\n",
    "- can offer lower variance in the predictions made over individual models. \n",
    "\n",
    "\n",
    "- a lower variance in prediction error for regression tasks, a lower variance in accuracy for classification tasks. \n",
    "\n",
    "- This lower variance may result in a lower mean performance of the ensemble, which might be desirable given the higher stability or confidence of the model."
   ]
  },
  {
   "cell_type": "markdown",
   "metadata": {},
   "source": [
    "Limitations:\n",
    "\n",
    "\n",
    "it treats all models the same, meaning all models contribute equally to the prediction.\n",
    "\n",
    "\n",
    "Extensions to voting ensembles:Weighted Average Ensemble (blending), Stacked Generalization (stacking)"
   ]
  },
  {
   "cell_type": "markdown",
   "metadata": {},
   "source": [
    "## Condition"
   ]
  },
  {
   "cell_type": "markdown",
   "metadata": {},
   "source": [
    "- All models in the ensemble have generally the same good performance.\n",
    "\n",
    "\n",
    "- All models in the ensemble mostly already agree.\n"
   ]
  },
  {
   "cell_type": "markdown",
   "metadata": {},
   "source": [
    "## sklearn"
   ]
  },
  {
   "cell_type": "markdown",
   "metadata": {},
   "source": [
    "- API-VotingRegressor: https://scikit-learn.org/stable/modules/generated/sklearn.ensemble.VotingRegressor.html\n",
    "\n",
    "\n",
    "- API-VotingClassifier: https://scikit-learn.org/stable/modules/generated/sklearn.ensemble.VotingClassifier.html\n",
    "\n",
    "\n",
    "- requires to specify a list of estimators that make predictions and are combined in the voting ensemble.\n",
    "\n",
    "\n",
    "- A list of base models is provided via the *estimators* argument. \n",
    "  \n",
    "  *estimators* is a list of tuples with the name of the model. Each model in the list must have a unique name."
   ]
  },
  {
   "cell_type": "markdown",
   "metadata": {},
   "source": [
    "## Classification"
   ]
  },
  {
   "cell_type": "code",
   "execution_count": 1,
   "metadata": {},
   "outputs": [],
   "source": [
    "import sklearn\n",
    "import warnings \n",
    "warnings.filterwarnings(\"ignore\", category=DeprecationWarning)\n",
    "%matplotlib inline"
   ]
  },
  {
   "cell_type": "code",
   "execution_count": 2,
   "metadata": {},
   "outputs": [],
   "source": [
    "# test classification dataset\n",
    "from sklearn.datasets import make_classification\n",
    "# create a binary classification dataset with 1,000 examples and 20 input features\n",
    "X, y = make_classification(n_samples=1000, n_features=20, n_informative=15, n_redundant=5, random_state=2)"
   ]
  },
  {
   "cell_type": "markdown",
   "metadata": {},
   "source": [
    "### Hard Voting"
   ]
  },
  {
   "cell_type": "markdown",
   "metadata": {},
   "source": [
    "- sum the predictions for each class label and predict the class label with the most votes.\n",
    "\n",
    "\n",
    "- for models that predict class labels"
   ]
  },
  {
   "cell_type": "code",
   "execution_count": 3,
   "metadata": {},
   "outputs": [],
   "source": [
    "# KNN algorithm\n",
    "\n",
    "# get a voting ensemble of models\n",
    "from sklearn.neighbors import KNeighborsClassifier\n",
    "from sklearn.ensemble import VotingClassifier\n",
    "def get_voting():\n",
    "    # define the base models\n",
    "    models = list()\n",
    "    models.append(('knn1', KNeighborsClassifier(n_neighbors=1)))\n",
    "    models.append(('knn3', KNeighborsClassifier(n_neighbors=3)))\n",
    "    models.append(('knn5', KNeighborsClassifier(n_neighbors=5)))\n",
    "    models.append(('knn7', KNeighborsClassifier(n_neighbors=7)))\n",
    "    models.append(('knn9', KNeighborsClassifier(n_neighbors=9)))\n",
    "    # define the voting ensemble\n",
    "    ensemble = VotingClassifier(estimators=models, voting='hard')\n",
    "    return ensemble"
   ]
  },
  {
   "cell_type": "code",
   "execution_count": 4,
   "metadata": {},
   "outputs": [],
   "source": [
    "# get a list of models to evaluate\n",
    "def get_models():\n",
    "    models = dict()\n",
    "    models['knn1'] = KNeighborsClassifier(n_neighbors=1)\n",
    "    models['knn3'] = KNeighborsClassifier(n_neighbors=3)\n",
    "    models['knn5'] = KNeighborsClassifier(n_neighbors=5)\n",
    "    models['knn7'] = KNeighborsClassifier(n_neighbors=7)\n",
    "    models['knn9'] = KNeighborsClassifier(n_neighbors=9)\n",
    "    models['hard_voting'] = get_voting()\n",
    "    return models"
   ]
  },
  {
   "cell_type": "code",
   "execution_count": 5,
   "metadata": {},
   "outputs": [],
   "source": [
    "# evaluate a give model using cross-validation\n",
    "from sklearn.model_selection import RepeatedStratifiedKFold\n",
    "from sklearn.model_selection import cross_val_score\n",
    "def evaluate_model(model, X, y):\n",
    "    \"\"\"\n",
    "    takes a model instance \n",
    "    returns as a list of scores from three repeats of stratified 10-fold cross-validation.\n",
    "    \"\"\"\n",
    "    cv = RepeatedStratifiedKFold(n_splits=10, n_repeats=3, random_state=1)\n",
    "    scores = cross_val_score(model, X, y, scoring='accuracy', cv=cv, n_jobs=-1, error_score='raise')\n",
    "    return scores"
   ]
  },
  {
   "cell_type": "code",
   "execution_count": 6,
   "metadata": {},
   "outputs": [
    {
     "name": "stdout",
     "output_type": "stream",
     "text": [
      ">knn1 0.873 (0.030)\n",
      ">knn3 0.889 (0.038)\n",
      ">knn5 0.895 (0.031)\n",
      ">knn7 0.899 (0.035)\n",
      ">knn9 0.900 (0.033)\n",
      ">hard_voting 0.902 (0.034)\n"
     ]
    },
    {
     "data": {
      "image/png": "[encoded data removed]",
      "text/plain": [
       "<Figure size 432x288 with 1 Axes>"
      ]
     },
     "metadata": {
      "needs_background": "light"
     },
     "output_type": "display_data"
    }
   ],
   "source": [
    "import numpy as np\n",
    "from matplotlib import pyplot\n",
    "from sklearn.datasets import make_classification\n",
    "\n",
    "# create a binary classification dataset with 1,000 examples and 20 input features\n",
    "X, y = make_classification(n_samples=1000, n_features=20, n_informative=15, n_redundant=5, random_state=2)\n",
    "\n",
    "# get the models to evaluate\n",
    "models = get_models()\n",
    "\n",
    "# evaluate the models and store results\n",
    "results, names = list(), list()\n",
    "for name, model in models.items():\n",
    "    scores = evaluate_model(model, X, y)\n",
    "    results.append(scores)\n",
    "    names.append(name)\n",
    "    print('>%s %.3f (%.3f)' % (name, np.mean(scores), np.std(scores)))\n",
    "    # print the result first report mean second report standard deviation\n",
    "    \n",
    "# plot model performance for comparison\n",
    "pyplot.boxplot(results, labels=names, showmeans=True)\n",
    "pyplot.show()"
   ]
  },
  {
   "cell_type": "code",
   "execution_count": 7,
   "metadata": {},
   "outputs": [
    {
     "name": "stdout",
     "output_type": "stream",
     "text": [
      "Predicted Class: 1\n"
     ]
    }
   ],
   "source": [
    "models = list()\n",
    "models.append(('knn1', KNeighborsClassifier(n_neighbors=1)))\n",
    "models.append(('knn3', KNeighborsClassifier(n_neighbors=3)))\n",
    "models.append(('knn5', KNeighborsClassifier(n_neighbors=5)))\n",
    "models.append(('knn7', KNeighborsClassifier(n_neighbors=7)))\n",
    "models.append(('knn9', KNeighborsClassifier(n_neighbors=9)))\n",
    "ensemble = VotingClassifier(estimators=models, voting='hard')\n",
    "\n",
    "# fit the model on data\n",
    "ensemble.fit(X,y)\n",
    "\n",
    "# make a prediction\n",
    "data = [[5.88891819,2.64867662,-0.42728226,-1.24988856,-0.00822,-3.57895574,2.87938412,-1.55614691,-0.38168784,7.50285659,-1.16710354,-5.02492712,-0.46196105,-0.64539455,-1.71297469,0.25987852,-0.193401,-5.52022952,0.0364453,-1.960039]]\n",
    "yhat = ensemble.predict(data)\n",
    "print('Predicted Class: %d' % (yhat))"
   ]
  },
  {
   "cell_type": "markdown",
   "metadata": {},
   "source": [
    "### Soft Voting"
   ]
  },
  {
   "cell_type": "markdown",
   "metadata": {},
   "source": [
    "- sum the predicted probabilities (or probability-like scores) for each class label and predict the class label with the largest summed probability.\n",
    "\n",
    "\n",
    "- for models that predict class membership probabilities\n",
    "\n",
    "\n",
    "- can be used for models that do not natively predict a class membership probability such as support vector machine, k-nearest neighbors, and decision trees (require calibration of their probability-like scores prior to being used in the ensemble)"
   ]
  },
  {
   "cell_type": "code",
   "execution_count": 8,
   "metadata": {},
   "outputs": [],
   "source": [
    "# support vector machine does not natively predict probabilities, but can set probability=True\n",
    "\n",
    "# get a voting ensemble of models\n",
    "from sklearn.svm import SVC\n",
    "from sklearn.ensemble import VotingClassifier\n",
    "def get_voting():\n",
    "    # define the base models\n",
    "    models = list()\n",
    "    #fit SVM algorithm with a polynomial kernel and a different polynomial degree\n",
    "    models.append(('svm1',SVC(probability = True, kernel = 'poly', degree=1)))\n",
    "    models.append(('svm2',SVC(probability = True, kernel = 'poly', degree=2)))\n",
    "    models.append(('svm3',SVC(probability = True, kernel = 'poly', degree=3)))\n",
    "    models.append(('svm4',SVC(probability = True, kernel = 'poly', degree=4)))\n",
    "    models.append(('svm5',SVC(probability = True, kernel = 'poly', degree=5)))\n",
    "    # define the voting ensemble\n",
    "    ensemble = VotingClassifier(estimators=models, voting='soft')\n",
    "    return ensemble"
   ]
  },
  {
   "cell_type": "code",
   "execution_count": 9,
   "metadata": {},
   "outputs": [],
   "source": [
    "# get a list of models to evaluate\n",
    "def get_models():\n",
    "    models = dict()\n",
    "    models['svm1'] = SVC(probability = True, kernel = 'poly', degree=1)\n",
    "    models['svm2'] = SVC(probability = True, kernel = 'poly', degree=2)\n",
    "    models['svm3'] = SVC(probability = True, kernel = 'poly', degree=3)\n",
    "    models['svm4'] = SVC(probability = True, kernel = 'poly', degree=4)\n",
    "    models['svm5'] = SVC(probability = True, kernel = 'poly', degree=5)\n",
    "    models['soft_voting'] = get_voting()\n",
    "    return models"
   ]
  },
  {
   "cell_type": "code",
   "execution_count": 10,
   "metadata": {},
   "outputs": [
    {
     "name": "stdout",
     "output_type": "stream",
     "text": [
      ">svm1 0.855 (0.035)\n",
      ">svm2 0.859 (0.034)\n",
      ">svm3 0.890 (0.035)\n",
      ">svm4 0.808 (0.037)\n",
      ">svm5 0.850 (0.037)\n",
      ">soft_voting 0.924 (0.027)\n"
     ]
    },
    {
     "data": {
      "image/png": "[encoded data removed]",
      "text/plain": [
       "<Figure size 432x288 with 1 Axes>"
      ]
     },
     "metadata": {
      "needs_background": "light"
     },
     "output_type": "display_data"
    }
   ],
   "source": [
    "import numpy as np\n",
    "from matplotlib import pyplot\n",
    "from sklearn.datasets import make_classification\n",
    "\n",
    "# create a binary classification dataset with 1,000 examples and 20 input features\n",
    "X, y = make_classification(n_samples=1000, n_features=20, n_informative=15, n_redundant=5, random_state=2)\n",
    "\n",
    "# get the models to evaluate\n",
    "models = get_models()\n",
    "\n",
    "# evaluate the models and store results\n",
    "results, names = list(), list()\n",
    "for name, model in models.items():\n",
    "    scores = evaluate_model(model, X, y)\n",
    "    results.append(scores)\n",
    "    names.append(name)\n",
    "    print('>%s %.3f (%.3f)' % (name, np.mean(scores), np.std(scores)))\n",
    "    # print the result first report mean second report standard deviation\n",
    "    \n",
    "# plot model performance for comparison\n",
    "pyplot.boxplot(results, labels=names, showmeans=True)\n",
    "pyplot.show()"
   ]
  },
  {
   "cell_type": "markdown",
   "metadata": {},
   "source": [
    "## Regression"
   ]
  },
  {
   "cell_type": "code",
   "execution_count": 11,
   "metadata": {},
   "outputs": [],
   "source": [
    "# decision tree regressor\n",
    "\n",
    "# get a voting ensemble of models\n",
    "from sklearn.tree import DecisionTreeRegressor\n",
    "from sklearn.ensemble import VotingRegressor\n",
    "def get_voting():\n",
    "    # define the base models\n",
    "    models = list()\n",
    "    #fit SVM algorithm with a polynomial kernel and a different polynomial degree\n",
    "    models.append(('decisiontree1',DecisionTreeRegressor(max_depth=1)))\n",
    "    models.append(('decisiontree2',DecisionTreeRegressor(max_depth=2)))\n",
    "    models.append(('decisiontree3',DecisionTreeRegressor(max_depth=3)))\n",
    "    models.append(('decisiontree4',DecisionTreeRegressor(max_depth=4)))\n",
    "    models.append(('decisiontree5',DecisionTreeRegressor(max_depth=5)))\n",
    "    # define the voting ensemble\n",
    "    ensemble = VotingRegressor(estimators=models)\n",
    "    return ensemble"
   ]
  },
  {
   "cell_type": "code",
   "execution_count": 12,
   "metadata": {},
   "outputs": [],
   "source": [
    "# get a list of models to evaluate\n",
    "def get_models():\n",
    "    models = dict()\n",
    "    models['decisiontree1'] = DecisionTreeRegressor(max_depth=1)\n",
    "    models['decisiontree2'] = DecisionTreeRegressor(max_depth=2)\n",
    "    models['decisiontree3'] = DecisionTreeRegressor(max_depth=3)\n",
    "    models['decisiontree4'] = DecisionTreeRegressor(max_depth=4)\n",
    "    models['decisiontree5'] = DecisionTreeRegressor(max_depth=5)\n",
    "    models['voting'] = get_voting()\n",
    "    return models"
   ]
  },
  {
   "cell_type": "code",
   "execution_count": 13,
   "metadata": {},
   "outputs": [],
   "source": [
    "# evaluate a give model using cross-validation\n",
    "from sklearn.model_selection import RepeatedKFold\n",
    "def evaluate_model(model, X, y):\n",
    "    cv = RepeatedKFold(n_splits=10, n_repeats=3, random_state=1)\n",
    "    scores = cross_val_score(model, X, y, scoring='neg_mean_absolute_error', cv=cv, n_jobs=-1, error_score='raise')\n",
    "    return scores"
   ]
  },
  {
   "cell_type": "code",
   "execution_count": 18,
   "metadata": {
    "scrolled": false
   },
   "outputs": [
    {
     "name": "stdout",
     "output_type": "stream",
     "text": [
      ">decisiontree1 -161.519 (11.414)\n",
      ">decisiontree2 -152.596 (11.271)\n",
      ">decisiontree3 -142.378 (10.900)\n",
      ">decisiontree4 -140.086 (12.469)\n",
      ">decisiontree5 -137.457 (12.397)\n",
      ">voting -136.346 (11.290)\n"
     ]
    },
    {
     "data": {
      "image/png": "[encoded data removed]",
      "text/plain": [
       "<Figure size 432x288 with 1 Axes>"
      ]
     },
     "metadata": {
      "needs_background": "light"
     },
     "output_type": "display_data"
    }
   ],
   "source": [
    "from sklearn.datasets import make_regression\n",
    "\n",
    "# create a binary classification dataset with 1,000 examples and 20 input features\n",
    "X, y = make_regression(n_samples=1000, n_features=20, n_informative=15, noise=0.1, random_state=1)\n",
    "\n",
    "# get the models to evaluate\n",
    "models = get_models()\n",
    "\n",
    "# evaluate the models and store results\n",
    "results, names = list(), list()\n",
    "for name, model in models.items():\n",
    "    scores = evaluate_model(model, X, y)\n",
    "    results.append(scores)\n",
    "    names.append(name)\n",
    "    print('>%s %.3f (%.3f)' % (name, np.mean(scores), np.std(scores)))\n",
    "    # print the result first report mean second report standard deviation\n",
    "    \n",
    "# plot model performance for comparison\n",
    "pyplot.boxplot(results, labels=names, showmeans=True)\n",
    "pyplot.xticks(rotation=45)\n",
    "pyplot.show()"
   ]
  }
 ],
 "metadata": {
  "kernelspec": {
   "display_name": "Python 3",
   "language": "python",
   "name": "python3"
  },
  "language_info": {
   "codemirror_mode": {
    "name": "ipython",
    "version": 3
   },
   "file_extension": ".py",
   "mimetype": "text/x-python",
   "name": "python",
   "nbconvert_exporter": "python",
   "pygments_lexer": "ipython3",
   "version": "3.7.3"
  },
  "toc": {
   "base_numbering": 1,
   "nav_menu": {},
   "number_sections": true,
   "sideBar": true,
   "skip_h1_title": false,
   "title_cell": "Table of Contents",
   "title_sidebar": "Contents",
   "toc_cell": false,
   "toc_position": {},
   "toc_section_display": true,
   "toc_window_display": false
  }
 },
 "nbformat": 4,
 "nbformat_minor": 2
}
