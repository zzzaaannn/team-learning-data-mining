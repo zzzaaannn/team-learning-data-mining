{
 "cells": [
  {
   "cell_type": "markdown",
   "metadata": {},
   "source": [
    "# Boosting"
   ]
  },
  {
   "cell_type": "markdown",
   "metadata": {},
   "source": [
    "对于Boosting方法来说，有两个问题需要给出答案：\n",
    "\n",
    "- 第一个是每一轮学习应该如何改变数据的概率分布\n",
    "\n",
    "- 第二个是如何将各个弱分类器组合起来\n",
    "\n",
    "- homogeneous weak learners, learns them sequentially in a very adaptative way(a base model depends on the previous ones) and combines them following a deterministic strategy\n",
    "\n"
   ]
  },
  {
   "cell_type": "markdown",
   "metadata": {},
   "source": [
    "![image](./0901.png)\n",
    "\n",
    "ref: https://www.bilibili.com/video/BV1it411q7wy?from=search&seid=16724763162388049402"
   ]
  },
  {
   "cell_type": "markdown",
   "metadata": {},
   "source": [
    "- D(.)是样本训练集的权重，$\\alpha(.)$是弱分类器模型的权重\n",
    "\n",
    "- 上一期的弱分类器会影响到下一期的弱分类器，不断迭代"
   ]
  },
  {
   "cell_type": "markdown",
   "metadata": {},
   "source": [
    "## Boosting methods"
   ]
  },
  {
   "cell_type": "markdown",
   "metadata": {},
   "source": [
    "- Adaboost: boosting + decision tree\n",
    "\n",
    "- GDBT: gradient boost + decision tree\n",
    "\n",
    "- xgboost:"
   ]
  },
  {
   "cell_type": "markdown",
   "metadata": {},
   "source": [
    "## 结合策略（combining）"
   ]
  },
  {
   "cell_type": "markdown",
   "metadata": {},
   "source": [
    "### 平均法\n",
    "\n",
    "- 算数平均：对各个弱分类器的预测输出 $\\frac{1}{n}\\sum{h_i}$\n",
    "\n",
    "- 加权平均：对各个弱分类器的预测输出 $\\frac{1}{n}\\sum{w_i h_i}$"
   ]
  },
  {
   "cell_type": "markdown",
   "metadata": {},
   "source": [
    "### 投票法"
   ]
  },
  {
   "cell_type": "markdown",
   "metadata": {},
   "source": [
    "- 相对多数投票法： 少数服从多数\n",
    "\n",
    "- 绝对多数投票法：在相对多数投票法的基础上，要求票过半数\n",
    "\n",
    "- 加权投票法： "
   ]
  },
  {
   "cell_type": "markdown",
   "metadata": {},
   "source": [
    "### 学习法"
   ]
  },
  {
   "cell_type": "markdown",
   "metadata": {},
   "source": [
    "- stacking: 我们将训练集弱学习器的学习结果作为输入样本，将训练集的输出作为输出，重新训练一个学习器来得到最终结果。\n",
    "\n",
    "- 在这种情况下，我们将弱学习器称为初级学习器，将用于结合的学习器称为次级学习器。对于测试集，我们首先用初级学习器预测一次，得到次级学习器的输入样本，再用次级学习器预测一次，得到最终的预测结果。"
   ]
  },
  {
   "cell_type": "markdown",
   "metadata": {},
   "source": [
    "# Adaboost (Adaptive Boosting)"
   ]
  },
  {
   "cell_type": "markdown",
   "metadata": {},
   "source": [
    "## Step 1: 计算样本权重"
   ]
  },
  {
   "cell_type": "markdown",
   "metadata": {},
   "source": [
    "- 对训练集中的每一个样本赋予一个权重，构成权重向量D。\n",
    "\n",
    "- 初始化每个样本权重相等，weight = $\\frac{1}{n}$"
   ]
  },
  {
   "cell_type": "markdown",
   "metadata": {},
   "source": [
    "## Step 2: 训练出一个弱分类器，并计算错误率"
   ]
  },
  {
   "cell_type": "markdown",
   "metadata": {},
   "source": [
    "error rate  = $\\frac{错误的数量}{样本总数}$"
   ]
  },
  {
   "cell_type": "markdown",
   "metadata": {},
   "source": [
    "## Step 3: 计算弱分类器的权重"
   ]
  },
  {
   "cell_type": "markdown",
   "metadata": {},
   "source": [
    "- 赋予当前的弱分类器权重$\\alpha$\n",
    "\n",
    "\n",
    "- $\\alpha = \\frac{1}{2} ln(\\frac{1-error\\space rate}{error\\space rate})$"
   ]
  },
  {
   "cell_type": "markdown",
   "metadata": {},
   "source": [
    "## Step 4: 调整弱分类器的权重"
   ]
  },
  {
   "cell_type": "markdown",
   "metadata": {},
   "source": [
    "- 根据上一次训练结果，调整权重值（上一次分对的权重降低，分错的权重增加）\n",
    "\n",
    "\n",
    "- 如果第i个样本被**正确**分类，则该样本权重更改为：\n",
    "\n",
    "\n",
    "- 如果第i个样本被**错误**分类，则该样本权重更改为："
   ]
  }
 ],
 "metadata": {
  "kernelspec": {
   "display_name": "Python 3",
   "language": "python",
   "name": "python3"
  },
  "language_info": {
   "codemirror_mode": {
    "name": "ipython",
    "version": 3
   },
   "file_extension": ".py",
   "mimetype": "text/x-python",
   "name": "python",
   "nbconvert_exporter": "python",
   "pygments_lexer": "ipython3",
   "version": "3.7.3"
  },
  "toc": {
   "base_numbering": 1,
   "nav_menu": {},
   "number_sections": true,
   "sideBar": true,
   "skip_h1_title": false,
   "title_cell": "Table of Contents",
   "title_sidebar": "Contents",
   "toc_cell": false,
   "toc_position": {},
   "toc_section_display": true,
   "toc_window_display": false
  }
 },
 "nbformat": 4,
 "nbformat_minor": 2
}
